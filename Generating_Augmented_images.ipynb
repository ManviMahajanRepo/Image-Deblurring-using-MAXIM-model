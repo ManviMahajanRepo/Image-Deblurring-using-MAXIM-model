{
  "nbformat": 4,
  "nbformat_minor": 0,
  "metadata": {
    "colab": {
      "provenance": []
    },
    "kernelspec": {
      "name": "python3",
      "display_name": "Python 3"
    },
    "language_info": {
      "name": "python"
    }
  },
  "cells": [
    {
      "cell_type": "code",
      "execution_count": null,
      "metadata": {
        "id": "JJVij5zo75Ir"
      },
      "outputs": [],
      "source": [
        "pip install Augmentor"
      ]
    },
    {
      "cell_type": "code",
      "source": [
        "import Augmentor\n",
        "\n",
        "p = Augmentor.Pipeline(\"/Users/manvimahajan/Desktop/BDS_PROJECT_IMAGES/BDS_Project_Images_50x50\")\n",
        "p.rotate(probability=0.7, max_left_rotation=10, max_right_rotation=10)\n",
        "p.zoom(probability=0.3, min_factor=1.1, max_factor=1.6)\n",
        "p.sample(10000)"
      ],
      "metadata": {
        "id": "8Acwf7LQ784J"
      },
      "execution_count": null,
      "outputs": []
    }
  ]
}